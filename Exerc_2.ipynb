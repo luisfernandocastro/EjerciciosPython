{
  "cells": [
    {
      "cell_type": "markdown",
      "metadata": {
        "id": "tS1Jg8kbmgpl"
      },
      "source": [
        "1. Escribir un programa que muestre por pantalla la cadena ¡Hola Mundo!."
      ]
    },
    {
      "cell_type": "code",
      "execution_count": 1,
      "metadata": {
        "id": "Gcm9D1igmEY9"
      },
      "outputs": [
        {
          "name": "stdout",
          "output_type": "stream",
          "text": [
            "¡Hola Mundo!\n"
          ]
        }
      ],
      "source": [
        "print(\"¡Hola Mundo!\")"
      ]
    },
    {
      "cell_type": "markdown",
      "metadata": {
        "id": "1G9M_G3JmdJN"
      },
      "source": [
        "2. Escribir un programa que almacene la cadena ¡Hola Mundo! en una variable y luego muestre por pantalla el contenido de la variable."
      ]
    },
    {
      "cell_type": "code",
      "execution_count": 2,
      "metadata": {},
      "outputs": [
        {
          "name": "stdout",
          "output_type": "stream",
          "text": [
            "¡Hola Mundo!\n"
          ]
        }
      ],
      "source": [
        "cadena = \"¡Hola Mundo!\"\n",
        "\n",
        "print(cadena)"
      ]
    },
    {
      "cell_type": "markdown",
      "metadata": {},
      "source": [
        "3. Escribir un programa que pregunte el nombre del usuario en la consola y después de que el usuario lo introduzca muestre por pantalla la cadena ¡Hola <nombre>!, donde <nombre> es el nombre que el usuario haya introducido."
      ]
    },
    {
      "cell_type": "code",
      "execution_count": 4,
      "metadata": {},
      "outputs": [
        {
          "name": "stdout",
          "output_type": "stream",
          "text": [
            "¡Hola Luis¡ \n"
          ]
        }
      ],
      "source": [
        "nombre = input(str(\"Digite su nombre: \"))\n",
        "\n",
        "print(f\"¡Hola {nombre}¡ \")"
      ]
    },
    {
      "cell_type": "markdown",
      "metadata": {},
      "source": [
        "4. Escribir un programa que muestre por pantalla el resultado de la siguiente operación aritmética \\left(\\frac{3+2}{2\\cdot 5}\\right)^2"
      ]
    },
    {
      "cell_type": "code",
      "execution_count": 7,
      "metadata": {},
      "outputs": [
        {
          "name": "stdout",
          "output_type": "stream",
          "text": [
            "0.05\n"
          ]
        }
      ],
      "source": [
        "result = ((3+2)/(2*5)**2)\n",
        "\n",
        "print(result)"
      ]
    },
    {
      "cell_type": "markdown",
      "metadata": {},
      "source": [
        "5. Escribir un programa que pregunte al usuario por el número de horas trabajadas y el coste por hora. Después debe mostrar por pantalla la paga que le corresponde."
      ]
    },
    {
      "cell_type": "code",
      "execution_count": null,
      "metadata": {},
      "outputs": [
        {
          "name": "stdout",
          "output_type": "stream",
          "text": [
            "El pago que le corresponde es de $64000.0\n"
          ]
        }
      ],
      "source": [
        "horastrabajadas = int(input(\"ingrese el número de horas trabajadas: \"))\n",
        "costoHora = float(input(\"Ingrese el coste de cada hora: \"))\n",
        "\n",
        "totalPago = horastrabajadas * costoHora\n",
        "\n",
        "print(f\"El pago que le corresponde es de ${totalPago}\")"
      ]
    },
    {
      "cell_type": "markdown",
      "metadata": {},
      "source": [
        "6. Escribir un programa que lea un entero positivo, n, introducido por el usuario y después muestre en pantalla la suma de todos los enteros desde 1 hasta n. La suma de los n primeros enteros positivos puede ser calculada de la siguiente forma: \\mbox{suma} = \\frac{n(n+1)}{2}"
      ]
    },
    {
      "cell_type": "code",
      "execution_count": 12,
      "metadata": {},
      "outputs": [
        {
          "name": "stdout",
          "output_type": "stream",
          "text": [
            "La suma de los primeros números enteros desde 1 hasta 100 es 5050.0\n"
          ]
        }
      ],
      "source": [
        "n = int(input(\"Ingrese el valor: \"))\n",
        "\n",
        "\n",
        "suma = (n*(n+1))/2\n",
        "\n",
        "print(f\"La suma de los primeros números enteros desde 1 hasta {n} es {suma}\")"
      ]
    },
    {
      "cell_type": "markdown",
      "metadata": {},
      "source": [
        "7. Escribir un programa que pida al usuario su peso (en kg) y estatura (en metros), calcule el índice de masa corporal y lo almacene en una variable, y muestre por pantalla la frase Tu índice de masa corporal es <imc> donde <imc> es el índice de masa corporal calculado redondeado con dos decimales."
      ]
    },
    {
      "cell_type": "code",
      "execution_count": 2,
      "metadata": {},
      "outputs": [
        {
          "name": "stdout",
          "output_type": "stream",
          "text": [
            "Su peso es de 63.0Kg y su estatura es de 1.79m por lo tanto su Indice corporal(IMC) es de: 19.66\n"
          ]
        }
      ],
      "source": [
        "peso = float(input(\"Por favor, ingrese su peso en Kg: \"))\n",
        "estatura = float(input(\"Por favor, ingrese su estatura en metros: \"))\n",
        "\n",
        "imc = round((peso)/(estatura**2),2)\n",
        "\n",
        "print(f\"Su peso es de {peso}Kg y su estatura es de {estatura}m por lo tanto su Indice corporal(IMC) es de: {imc}\")"
      ]
    },
    {
      "cell_type": "markdown",
      "metadata": {},
      "source": [
        "8. Escribir un programa que pida al usuario dos números enteros y muestre por pantalla la <n> entre <m> da un cociente <c> y un resto <r> donde <n> y <m> son los números introducidos por el usuario, y <c> y <r> son el cociente y el resto de la división entera respectivamente."
      ]
    },
    {
      "cell_type": "code",
      "execution_count": 5,
      "metadata": {},
      "outputs": [
        {
          "name": "stdout",
          "output_type": "stream",
          "text": [
            "27 entre 4 da un cociente 6 y un resto 3\n"
          ]
        }
      ],
      "source": [
        "n = int(input(\"ingrese un primer número: \"))\n",
        "m = int(input(\"ingrese un segundo número: \"))\n",
        "\n",
        "cociente = n // m\n",
        "resto = n % m\n",
        "\n",
        "print(f\"{n} entre {m} da un cociente {cociente} y un resto {resto}\")"
      ]
    },
    {
      "cell_type": "markdown",
      "metadata": {},
      "source": [
        "9. Escribir un programa que pregunte al usuario una cantidad a invertir, el interés anual y el número de años, y muestre por pantalla el capital obtenido en la inversión."
      ]
    },
    {
      "cell_type": "code",
      "execution_count": 6,
      "metadata": {},
      "outputs": [
        {
          "name": "stdout",
          "output_type": "stream",
          "text": [
            "Capital final: 32.58\n"
          ]
        }
      ],
      "source": [
        "cantidad = float(input(\"¿Cantidad a invertir? \"))\n",
        "interes = float(input(\"¿Interés porcentual anual? \"))\n",
        "años = int(input(\"¿Años?\"))\n",
        "print(\"Capital final: \" + str(round(cantidad * (interes / 100 + 1) ** años, 2)))"
      ]
    },
    {
      "cell_type": "markdown",
      "metadata": {},
      "source": [
        "10. Una juguetería tiene mucho éxito en dos de sus productos: payasos y muñecas. Suele hacer venta por correo y la empresa de logística les cobra por peso de cada paquete así que deben calcular el peso de los payasos y muñecas que saldrán en cada paquete a demanda. Cada payaso pesa 112 g y cada muñeca 75 g. Escribir un programa que lea el número de payasos y muñecas vendidos en el último pedido y calcule el peso total del paquete que será enviado."
      ]
    },
    {
      "cell_type": "code",
      "execution_count": null,
      "metadata": {},
      "outputs": [],
      "source": []
    },
    {
      "cell_type": "markdown",
      "metadata": {},
      "source": [
        "11. Imagina que acabas de abrir una nueva cuenta de ahorros que te ofrece el 4% de interés al año. Estos ahorros debido a intereses, que no se cobran hasta finales de año, se te añaden al balance final de tu cuenta de ahorros. Escribir un programa que comience leyendo la cantidad de dinero depositada en la cuenta de ahorros, introducida por el usuario. Después el programa debe calcular y mostrar por pantalla la cantidad de ahorros tras el primer, segundo y tercer años. Redondear cada cantidad a dos decimales."
      ]
    },
    {
      "cell_type": "code",
      "execution_count": null,
      "metadata": {},
      "outputs": [],
      "source": []
    },
    {
      "cell_type": "markdown",
      "metadata": {},
      "source": [
        "12. Una panadería vende barras de pan a 3.49€ cada una. El pan que no es el día tiene un descuento del 60%. Escribir un programa que comience leyendo el número de barras vendidas que no son del día. Después el programa debe mostrar el precio habitual de una barra de pan, el descuento que se le hace por no ser fresca y el coste final total."
      ]
    },
    {
      "cell_type": "code",
      "execution_count": null,
      "metadata": {},
      "outputs": [],
      "source": []
    }
  ],
  "metadata": {
    "colab": {
      "provenance": []
    },
    "kernelspec": {
      "display_name": "Python 3",
      "name": "python3"
    },
    "language_info": {
      "codemirror_mode": {
        "name": "ipython",
        "version": 3
      },
      "file_extension": ".py",
      "mimetype": "text/x-python",
      "name": "python",
      "nbconvert_exporter": "python",
      "pygments_lexer": "ipython3",
      "version": "3.13.2"
    }
  },
  "nbformat": 4,
  "nbformat_minor": 0
}
