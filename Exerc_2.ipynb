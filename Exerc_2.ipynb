{
  "cells": [
    {
      "cell_type": "markdown",
      "metadata": {
        "id": "tS1Jg8kbmgpl"
      },
      "source": [
        "1. Escribir un programa que muestre por pantalla la cadena ¡Hola Mundo!."
      ]
    },
    {
      "cell_type": "code",
      "execution_count": 1,
      "metadata": {
        "id": "Gcm9D1igmEY9"
      },
      "outputs": [
        {
          "name": "stdout",
          "output_type": "stream",
          "text": [
            "¡Hola Mundo!\n"
          ]
        }
      ],
      "source": [
        "print(\"¡Hola Mundo!\")"
      ]
    },
    {
      "cell_type": "markdown",
      "metadata": {
        "id": "1G9M_G3JmdJN"
      },
      "source": [
        "2. Escribir un programa que almacene la cadena ¡Hola Mundo! en una variable y luego muestre por pantalla el contenido de la variable."
      ]
    },
    {
      "cell_type": "code",
      "execution_count": 2,
      "metadata": {},
      "outputs": [
        {
          "name": "stdout",
          "output_type": "stream",
          "text": [
            "¡Hola Mundo!\n"
          ]
        }
      ],
      "source": [
        "cadena = \"¡Hola Mundo!\"\n",
        "\n",
        "print(cadena)"
      ]
    },
    {
      "cell_type": "markdown",
      "metadata": {},
      "source": [
        "3. Escribir un programa que pregunte el nombre del usuario en la consola y después de que el usuario lo introduzca muestre por pantalla la cadena ¡Hola <nombre>!, donde <nombre> es el nombre que el usuario haya introducido."
      ]
    },
    {
      "cell_type": "code",
      "execution_count": 4,
      "metadata": {},
      "outputs": [
        {
          "name": "stdout",
          "output_type": "stream",
          "text": [
            "¡Hola Luis¡ \n"
          ]
        }
      ],
      "source": [
        "nombre = input(str(\"Digite su nombre: \"))\n",
        "\n",
        "print(f\"¡Hola {nombre}¡ \")"
      ]
    },
    {
      "cell_type": "markdown",
      "metadata": {},
      "source": [
        "4. Escribir un programa que muestre por pantalla el resultado de la siguiente operación aritmética \\left(\\frac{3+2}{2\\cdot 5}\\right)^2"
      ]
    },
    {
      "cell_type": "code",
      "execution_count": 7,
      "metadata": {},
      "outputs": [
        {
          "name": "stdout",
          "output_type": "stream",
          "text": [
            "0.05\n"
          ]
        }
      ],
      "source": [
        "result = ((3+2)/(2*5)**2)\n",
        "\n",
        "print(result)"
      ]
    },
    {
      "cell_type": "markdown",
      "metadata": {},
      "source": [
        "5. Escribir un programa que pregunte al usuario por el número de horas trabajadas y el coste por hora. Después debe mostrar por pantalla la paga que le corresponde."
      ]
    },
    {
      "cell_type": "code",
      "execution_count": null,
      "metadata": {},
      "outputs": [
        {
          "name": "stdout",
          "output_type": "stream",
          "text": [
            "El pago que le corresponde es de $64000.0\n"
          ]
        }
      ],
      "source": [
        "horastrabajadas = int(input(\"ingrese el número de horas trabajadas: \"))\n",
        "costoHora = float(input(\"Ingrese el coste de cada hora: \"))\n",
        "\n",
        "totalPago = horastrabajadas * costoHora\n",
        "\n",
        "print(f\"El pago que le corresponde es de ${totalPago}\")"
      ]
    },
    {
      "cell_type": "markdown",
      "metadata": {},
      "source": [
        "6. Escribir un programa que lea un entero positivo, n, introducido por el usuario y después muestre en pantalla la suma de todos los enteros desde 1 hasta n. La suma de los n primeros enteros positivos puede ser calculada de la siguiente forma: \\mbox{suma} = \\frac{n(n+1)}{2}"
      ]
    },
    {
      "cell_type": "code",
      "execution_count": 12,
      "metadata": {},
      "outputs": [
        {
          "name": "stdout",
          "output_type": "stream",
          "text": [
            "La suma de los primeros números enteros desde 1 hasta 100 es 5050.0\n"
          ]
        }
      ],
      "source": [
        "n = int(input(\"Ingrese el valor: \"))\n",
        "\n",
        "\n",
        "suma = (n*(n+1))/2\n",
        "\n",
        "print(f\"La suma de los primeros números enteros desde 1 hasta {n} es {suma}\")"
      ]
    }
  ],
  "metadata": {
    "colab": {
      "provenance": []
    },
    "kernelspec": {
      "display_name": "Python 3",
      "name": "python3"
    },
    "language_info": {
      "codemirror_mode": {
        "name": "ipython",
        "version": 3
      },
      "file_extension": ".py",
      "mimetype": "text/x-python",
      "name": "python",
      "nbconvert_exporter": "python",
      "pygments_lexer": "ipython3",
      "version": "3.13.2"
    }
  },
  "nbformat": 4,
  "nbformat_minor": 0
}
